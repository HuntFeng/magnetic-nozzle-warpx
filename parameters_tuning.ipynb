{
 "cells": [
  {
   "cell_type": "code",
   "execution_count": 1,
   "metadata": {},
   "outputs": [],
   "source": [
    "import numpy as np\n",
    "import util\n",
    "import pandas as pd\n",
    "import matplotlib.pyplot as plt"
   ]
  },
  {
   "cell_type": "code",
   "execution_count": 2,
   "metadata": {},
   "outputs": [
    {
     "name": "stdout",
     "output_type": "stream",
     "text": [
      "Starting simulation with parameters:\n",
      "    Lz = 0.1m, Lx = 0.01m\n",
      "    Nz = 256, Nx = 32\n",
      "    dz = 390.6um, dx = 312.5um\n",
      "    Debye length = 1486.0 um\n",
      "    Electron plasma frequency = 5641460231.2 Hz\n",
      "    T_e = T_i = 400.000 eV\n",
      "    n0 = 1.0e+16 m^-3\n",
      "    M/m = 400\n",
      "    flux_i = 950.2 A/m2\n",
      "    Ion crossing time: 1.686131268092182e-07\n",
      "    Ion crossing steps: 13589\n",
      "    Total steps = 13589\n"
     ]
    }
   ],
   "source": [
    "class MagneticMirror2D(object):\n",
    "\n",
    "    #######################################################################\n",
    "    # Begin physical parameters                                           #\n",
    "    #######################################################################\n",
    "\n",
    "    # domain size in meter\n",
    "    Lx = 1e-2 # r direction\n",
    "    Lz = 1e-1\n",
    "\n",
    "    # spatial resolution in number of cells\n",
    "    Nx = 32\n",
    "    Nz = 256\n",
    "\n",
    "    # mirror ratio\n",
    "    R = 10.0\n",
    "    B_max = 30.0  # T\n",
    "\n",
    "    # use a reduced ion mass for faster simulations\n",
    "    m_ion = 400.0 * util.constants.m_e\n",
    "    # m_ion = util.constants.m_p\n",
    "\n",
    "    # initial seed macroparticle density\n",
    "    nppc_seed = 5  # 800\n",
    "\n",
    "    # total simulation time in ion thermal crossing times\n",
    "    crossing_times = 1\n",
    "\n",
    "    def __init__(self):\n",
    "        # plasma density m^{-3}\n",
    "        self.n0 = 1e16\n",
    "\n",
    "        # temperature\n",
    "        self.Te = 400 # eV\n",
    "        self.Ti = self.Te\n",
    "\n",
    "        self.dx = self.Lx / self.Nx\n",
    "        self.dz = self.Lz / self.Nz\n",
    "\n",
    "        # calculate electron plasma frequency\n",
    "        w_pe = util.plasma_freq(self.n0)\n",
    "        self.dt = 0.07 / w_pe\n",
    "        # simulation timestep from electron CFL\n",
    "        # self.dt = self.dz / (5.0 * util.thermal_velocity(self.Te, util.constants.m_e))\n",
    "\n",
    "        # calculate the ion crossing time to get the total simulation time\n",
    "        ion_crossing_time = self.Lz / \\\n",
    "            util.thermal_velocity(self.Ti, self.m_ion)\n",
    "        self.total_steps = int(np.ceil(\n",
    "            self.crossing_times * ion_crossing_time / self.dt\n",
    "        ))\n",
    "        self.diag_steps = int(self.total_steps / 20.0)\n",
    "\n",
    "        # calculate the flux from the thermal plasma reservoir\n",
    "        self.flux_e = (\n",
    "            self.n0 * util.thermal_velocity(self.Te, util.constants.m_e) / np.sqrt(2.0 * np.pi)\n",
    "        )\n",
    "        # self.flux_i = self.flux_e * np.sqrt(util.constants.m_e / self.m_ion)\n",
    "        self.flux_i = (\n",
    "            self.n0 * util.thermal_velocity(self.Ti, self.m_ion)\n",
    "        )\n",
    "\n",
    "        # check spatial resolution\n",
    "        self.debye_length = util.debye_length(self.Te, self.n0)\n",
    "\n",
    "        print(\"Starting simulation with parameters:\")\n",
    "        print(f\"    Lz = {self.Lz}m, Lx = {self.Lx}m\")\n",
    "        print(f\"    Nz = {self.Nz}, Nx = {self.Nx}\")\n",
    "        print(f\"    dz = {self.dz*1e6:.1f}um, dx = {self.dx*1e6:.1f}um\")\n",
    "        print(f\"    Debye length = {self.debye_length*1e6:.1f} um\")\n",
    "        print(f\"    Electron plasma frequency = {w_pe:.1f} Hz\")\n",
    "        print(f\"    T_e = T_i = {self.Te:.3f} eV\")\n",
    "        print(f\"    n0 = {self.n0:.1e} m^-3\")\n",
    "        print(f\"    M/m = {self.m_ion/util.constants.m_e:.0f}\")\n",
    "        # print(f\"    flux_e = {self.flux_e*util.constants.e:.1f} A/m2\")\n",
    "        print(f\"    flux_i = {self.flux_i*util.constants.e:.1f} A/m2\")\n",
    "        print(f\"    Ion crossing time: {ion_crossing_time}\")\n",
    "        print(f\"    Ion crossing steps: {ion_crossing_time / self.dt:.0f}\")\n",
    "        print(f\"    Total steps = {self.total_steps}\")\n",
    "mirror = MagneticMirror2D()\n"
   ]
  },
  {
   "cell_type": "code",
   "execution_count": 9,
   "metadata": {},
   "outputs": [
    {
     "data": {
      "text/html": [
       "<div>\n",
       "<style scoped>\n",
       "    .dataframe tbody tr th:only-of-type {\n",
       "        vertical-align: middle;\n",
       "    }\n",
       "\n",
       "    .dataframe tbody tr th {\n",
       "        vertical-align: top;\n",
       "    }\n",
       "\n",
       "    .dataframe thead th {\n",
       "        text-align: right;\n",
       "    }\n",
       "</style>\n",
       "<table border=\"1\" class=\"dataframe\">\n",
       "  <thead>\n",
       "    <tr style=\"text-align: right;\">\n",
       "      <th></th>\n",
       "      <th>Cores</th>\n",
       "      <th>Total Hours</th>\n",
       "      <th>Total Days</th>\n",
       "    </tr>\n",
       "  </thead>\n",
       "  <tbody>\n",
       "    <tr>\n",
       "      <th>0</th>\n",
       "      <td>1</td>\n",
       "      <td>3.8</td>\n",
       "      <td>0.2</td>\n",
       "    </tr>\n",
       "    <tr>\n",
       "      <th>1</th>\n",
       "      <td>2</td>\n",
       "      <td>1.9</td>\n",
       "      <td>0.1</td>\n",
       "    </tr>\n",
       "    <tr>\n",
       "      <th>2</th>\n",
       "      <td>4</td>\n",
       "      <td>0.9</td>\n",
       "      <td>0.0</td>\n",
       "    </tr>\n",
       "    <tr>\n",
       "      <th>3</th>\n",
       "      <td>8</td>\n",
       "      <td>0.5</td>\n",
       "      <td>0.0</td>\n",
       "    </tr>\n",
       "    <tr>\n",
       "      <th>4</th>\n",
       "      <td>16</td>\n",
       "      <td>0.2</td>\n",
       "      <td>0.0</td>\n",
       "    </tr>\n",
       "    <tr>\n",
       "      <th>5</th>\n",
       "      <td>32</td>\n",
       "      <td>0.1</td>\n",
       "      <td>0.0</td>\n",
       "    </tr>\n",
       "    <tr>\n",
       "      <th>6</th>\n",
       "      <td>64</td>\n",
       "      <td>0.1</td>\n",
       "      <td>0.0</td>\n",
       "    </tr>\n",
       "    <tr>\n",
       "      <th>7</th>\n",
       "      <td>128</td>\n",
       "      <td>0.0</td>\n",
       "      <td>0.0</td>\n",
       "    </tr>\n",
       "  </tbody>\n",
       "</table>\n",
       "</div>"
      ],
      "text/plain": [
       "   Cores  Total Hours  Total Days\n",
       "0      1          3.8         0.2\n",
       "1      2          1.9         0.1\n",
       "2      4          0.9         0.0\n",
       "3      8          0.5         0.0\n",
       "4     16          0.2         0.0\n",
       "5     32          0.1         0.0\n",
       "6     64          0.1         0.0\n",
       "7    128          0.0         0.0"
      ]
     },
     "execution_count": 9,
     "metadata": {},
     "output_type": "execute_result"
    }
   ],
   "source": [
    "num_cores = 2**np.arange(8)\n",
    "time_per_step = 1 # second\n",
    "total_time = np.round(time_per_step*mirror.total_steps / num_cores / 3600, 1) # in hours\n",
    "pd.DataFrame({\"Cores\": num_cores, \"Total Hours\": total_time, \"Total Days\": np.round(total_time/24,1)})"
   ]
  },
  {
   "cell_type": "markdown",
   "metadata": {},
   "source": [
    "We can have a much more accurate estimate by using the output log from previous runs"
   ]
  },
  {
   "cell_type": "code",
   "execution_count": 7,
   "metadata": {},
   "outputs": [
    {
     "name": "stdout",
     "output_type": "stream",
     "text": [
      "Processing diags32x256-1ict/output-11321410.log ......done!\n",
      "Estimated to take 7.67648472287793 hours using 32 cores and 2 OMP threads\n"
     ]
    },
    {
     "data": {
      "image/png": "[encoded data removed]",
      "text/plain": [
       "<Figure size 432x288 with 1 Axes>"
      ]
     },
     "metadata": {
      "needs_background": "light"
     },
     "output_type": "display_data"
    }
   ],
   "source": [
    "output_file = \"diags32x256-1ict/output-11321410.log\"\n",
    "specs, time_data = util.extract_data(output_file)\n",
    "steps, total_times = time_data[:,0], time_data[:,4].cumsum()\n",
    "plt.plot(steps, total_times)\n",
    "plt.xlabel(\"step\")\n",
    "plt.ylabel(\"total time (s)\")\n",
    "\n",
    "p = np.polyfit(steps, total_times, 2)\n",
    "estimate_steps = np.linspace(1,mirror.total_steps)\n",
    "estimate_times = np.polyval(p, estimate_steps)\n",
    "plt.plot(estimate_steps, estimate_times)\n",
    "plt.legend([\"actual time\", \"estimated time\"])\n",
    "\n",
    "print(f\"Estimated to take {estimate_times[-1]/3600} hours using {specs['cores']} cores and {specs['omp_threads']} OMP threads\")"
   ]
  },
  {
   "cell_type": "code",
   "execution_count": null,
   "metadata": {},
   "outputs": [],
   "source": []
  }
 ],
 "metadata": {
  "kernelspec": {
   "display_name": "warpx",
   "language": "python",
   "name": "python3"
  },
  "language_info": {
   "codemirror_mode": {
    "name": "ipython",
    "version": 3
   },
   "file_extension": ".py",
   "mimetype": "text/x-python",
   "name": "python",
   "nbconvert_exporter": "python",
   "pygments_lexer": "ipython3",
   "version": "3.9.8"
  }
 },
 "nbformat": 4,
 "nbformat_minor": 2
}
